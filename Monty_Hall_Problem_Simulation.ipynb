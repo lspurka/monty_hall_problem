{
 "cells": [
  {
   "cell_type": "markdown",
   "id": "pleasant-greece",
   "metadata": {},
   "source": [
    "## Run Monty Hall Probelm Simulations\n",
    "https://en.wikipedia.org/wiki/Monty_Hall_problem\n",
    "\n",
    "Run a set of \"mini games\" for a set number of simulations to see how often you'd win the car if you never change your choice or if you always change your choice."
   ]
  },
  {
   "cell_type": "code",
   "execution_count": null,
   "id": "successful-airplane",
   "metadata": {},
   "outputs": [],
   "source": [
    "from monty_hall import run_simulation"
   ]
  },
  {
   "cell_type": "code",
   "execution_count": null,
   "id": "introductory-queue",
   "metadata": {},
   "outputs": [],
   "source": [
    "num_of_minigames = 100 # this is the number of games within a single simulation\n",
    "num_of_simulations = 1000 # this is the number of simulated games"
   ]
  },
  {
   "cell_type": "code",
   "execution_count": null,
   "id": "controversial-techno",
   "metadata": {},
   "outputs": [],
   "source": [
    "run_simulation(generate_plot=True, num_of_minigames=num_of_minigames, num_of_simulations=num_of_simulations)"
   ]
  }
 ],
 "metadata": {
  "kernelspec": {
   "display_name": "Python 3",
   "language": "python",
   "name": "python3"
  },
  "language_info": {
   "codemirror_mode": {
    "name": "ipython",
    "version": 3
   },
   "file_extension": ".py",
   "mimetype": "text/x-python",
   "name": "python",
   "nbconvert_exporter": "python",
   "pygments_lexer": "ipython3",
   "version": "3.7.9"
  }
 },
 "nbformat": 4,
 "nbformat_minor": 5
}
